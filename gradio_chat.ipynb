{
 "cells": [
  {
   "cell_type": "markdown",
   "id": "90e675b1-1dd3-40f1-9155-a0298b5a828e",
   "metadata": {},
   "source": [
    "## The Hugging Face Transformers Library | Example Code + Chatbot UI with Gradio"
   ]
  },
  {
   "cell_type": "code",
   "execution_count": null,
   "id": "62732839-a779-4575-a96e-b4a9e2d9afa2",
   "metadata": {},
   "outputs": [],
   "source": []
  },
  {
   "cell_type": "code",
   "execution_count": 1,
   "id": "a6be897f-5f19-49ce-9ed2-9edd9011e23c",
   "metadata": {},
   "outputs": [],
   "source": [
    "import ipywidgets as widgets"
   ]
  },
  {
   "cell_type": "code",
   "execution_count": 2,
   "id": "c67ee4fc-8d35-4b03-9c75-6f1ae36adcb9",
   "metadata": {},
   "outputs": [],
   "source": [
    "from transformers import BlenderbotTokenizer, BlenderbotForConditionalGeneration"
   ]
  },
  {
   "cell_type": "code",
   "execution_count": 3,
   "id": "1ec5e194-aded-49ce-aa59-8575bcbf37ed",
   "metadata": {},
   "outputs": [],
   "source": [
    "import gradio as gr"
   ]
  },
  {
   "cell_type": "code",
   "execution_count": 4,
   "id": "cdc3b8c0-d8e3-4f95-a22e-31b9f85429be",
   "metadata": {},
   "outputs": [],
   "source": [
    "# Load the model and tokenizer\n",
    "model_name = \"facebook/blenderbot-400M-distill\""
   ]
  },
  {
   "cell_type": "code",
   "execution_count": 5,
   "id": "8ca894dc-c86c-47df-ae0e-22518e65260e",
   "metadata": {},
   "outputs": [],
   "source": [
    "tokenizer = BlenderbotTokenizer.from_pretrained(model_name)"
   ]
  },
  {
   "cell_type": "code",
   "execution_count": 6,
   "id": "66f837d0-3279-461c-aaea-051b60e36fb4",
   "metadata": {},
   "outputs": [],
   "source": [
    "model = BlenderbotForConditionalGeneration.from_pretrained(model_name)"
   ]
  },
  {
   "cell_type": "code",
   "execution_count": 7,
   "id": "a7ee7c9a-1f6e-417b-b7c6-18ed175065e1",
   "metadata": {},
   "outputs": [],
   "source": [
    "# Global chat history\n",
    "chat_history = []"
   ]
  },
  {
   "cell_type": "code",
   "execution_count": 8,
   "id": "c1334bec-a7f5-4ecb-a724-7be25444413c",
   "metadata": {},
   "outputs": [],
   "source": [
    "# Define chatbot function\n",
    "def chatbot_interface(user_input):\n",
    "    global chat_history\n",
    "\n",
    "    full_conversation = \" \".join(chat_history + [user_input])\n",
    "    inputs = tokenizer([full_conversation], return_tensors=\"pt\")\n",
    "    \n",
    "    reply_ids = model.generate(**inputs)\n",
    "    reply = tokenizer.decode(reply_ids[0], skip_special_tokens=True)\n",
    "\n",
    "    chat_history.append(user_input)\n",
    "    chat_history.append(reply)\n",
    "\n",
    "    return reply"
   ]
  },
  {
   "cell_type": "code",
   "execution_count": 9,
   "id": "e1635cef-4618-4b54-9e70-561d1f1f430e",
   "metadata": {},
   "outputs": [
    {
     "name": "stdout",
     "output_type": "stream",
     "text": [
      "* Running on local URL:  http://127.0.0.1:7860\n",
      "* Running on public URL: https://5f7bb7a44dafb55c88.gradio.live\n",
      "\n",
      "This share link expires in 72 hours. For free permanent hosting and GPU upgrades, run `gradio deploy` from the terminal in the working directory to deploy to Hugging Face Spaces (https://huggingface.co/spaces)\n"
     ]
    },
    {
     "data": {
      "text/html": [
       "<div><iframe src=\"https://5f7bb7a44dafb55c88.gradio.live\" width=\"100%\" height=\"500\" allow=\"autoplay; camera; microphone; clipboard-read; clipboard-write;\" frameborder=\"0\" allowfullscreen></iframe></div>"
      ],
      "text/plain": [
       "<IPython.core.display.HTML object>"
      ]
     },
     "metadata": {},
     "output_type": "display_data"
    },
    {
     "data": {
      "text/plain": []
     },
     "execution_count": 9,
     "metadata": {},
     "output_type": "execute_result"
    }
   ],
   "source": [
    "# Launch the Gradio UI (with share=True for Jupyter)\n",
    "gr.Interface(fn=chatbot_interface, inputs=\"text\", outputs=\"text\", title=\"🧠 Ilham's BlenderBot 🤖\").launch(share=True)"
   ]
  },
  {
   "cell_type": "code",
   "execution_count": null,
   "id": "c5168a44-5df7-4f04-9406-6209f60fb18b",
   "metadata": {},
   "outputs": [],
   "source": []
  }
 ],
 "metadata": {
  "kernelspec": {
   "display_name": "Python (gradio)",
   "language": "python",
   "name": "gradio"
  },
  "language_info": {
   "codemirror_mode": {
    "name": "ipython",
    "version": 3
   },
   "file_extension": ".py",
   "mimetype": "text/x-python",
   "name": "python",
   "nbconvert_exporter": "python",
   "pygments_lexer": "ipython3",
   "version": "3.12.3"
  }
 },
 "nbformat": 4,
 "nbformat_minor": 5
}
